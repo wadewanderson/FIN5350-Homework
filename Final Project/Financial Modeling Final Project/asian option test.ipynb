{
 "cells": [
  {
   "cell_type": "code",
   "execution_count": null,
   "metadata": {
    "colab": {},
    "colab_type": "code",
    "id": "Hg3nqJRbfiLz"
   },
   "outputs": [],
   "source": [
    "import numpy as np\n",
    "from scipy.stats.mstats import gmean\n",
    "from scipy.stats import norm"
   ]
  },
  {
   "cell_type": "code",
   "execution_count": null,
   "metadata": {
    "colab": {},
    "colab_type": "code",
    "id": "8L8cHcQAfiL9"
   },
   "outputs": [],
   "source": [
    "def GeoAsianCallBSMPricer(strike, expiry, spot, rate, volatility, dividend, steps):\n",
    "    u = rate - dividend + .5*volatility**2\n",
    "    a = steps*(steps+1)*(2*steps+1)/6\n",
    "    v = np.exp(-rate*expiry)*spot*np.exp((steps+1)*u/2 + (a*expiry*volatility**2)/(2*steps**2))\n",
    "    avg_vol = volatility*np.exp((2*steps+1)/(6*(steps+1)))\n",
    "    d1 = (1/avg_vol*np.exp(expiry))*(np.log(v/strike) + (rate-dividend+.5*avg_vol**2)*expiry)\n",
    "    d2 = d1 - avg_vol*np.exp(expiry)\n",
    "    price = np.exp(-dividend*expiry)*v*norm.cdf(d1) - np.exp(-rate*expiry)*strike*norm.cdf(d2)\n",
    "    return price"
   ]
  },
  {
   "cell_type": "code",
   "execution_count": null,
   "metadata": {
    "colab": {},
    "colab_type": "code",
    "id": "PiZRTnCKfiMC"
   },
   "outputs": [],
   "source": [
    "def call_payoff(spot, strike):\n",
    "    payoff = max(spot - strike, 0)\n",
    "    return payoff\n",
    "\n",
    "def put_payoff(spot, strike):\n",
    "    payoff = max(strike - spot, 0)\n",
    "    return payoff"
   ]
  },
  {
   "cell_type": "code",
   "execution_count": null,
   "metadata": {
    "colab": {},
    "colab_type": "code",
    "id": "1ycwEOYAfiMI"
   },
   "outputs": [],
   "source": [
    "def PathwiseCVMonteCarloPricer(strike, expiry, spot, rate, vol, div, replications, steps):\n",
    "    dt = expiry / steps\n",
    "    disc = np.exp(-rate * dt)\n",
    "    spotPath = np.zeros((replications, steps))\n",
    "    spotPath[:,0] = spot\n",
    "    for j in range(replications):\n",
    "        arithmetic_prices = np.zeros((replications))\n",
    "        geo_prices = np.zeros((replications))\n",
    "        for t in range(1, int(steps)):\n",
    "            z = np.random.normal(size=int(steps))\n",
    "            spotPath[j,t]= spotPath[j,t-1] * np.exp((rate - div - 0.5 * vol * vol) * dt + vol * np.sqrt(dt) * z[t])\n",
    "        arithmetic_prices[j] = call_payoff(np.average(spotPath[j]), strike)\n",
    "        geo_prices[j] = call_payoff(gmean(spotPath[j]), strike)\n",
    "        \n",
    "    GBSM_price = GeoAsianCallBSMPricer(strike, expiry, spot, rate, vol, div, steps)\n",
    "    price = np.average(arithmetic_prices) + GBSM_price - np.average(geo_prices)\n",
    "\n",
    "    return price"
   ]
  },
  {
   "cell_type": "code",
   "execution_count": null,
   "metadata": {
    "colab": {},
    "colab_type": "code",
    "id": "5GnJBoe1fiMO"
   },
   "outputs": [],
   "source": [
    "def ControlVariatePricer(strike, expiry, spot, rate, volatility, dividend, replications, steps):\n",
    "    dt = expiry / steps\n",
    "    nudt = (rate - dividend - 0.5 * volatility * volatility) * dt\n",
    "    sigsdt = volatility * np.sqrt(dt)\n",
    "    erddt = np.exp((rate - dividend) * dt)    \n",
    "    beta = 1.0\n",
    "    cash_flow_t = np.zeros((replications, ))\n",
    "    price = 0.0\n",
    "\n",
    "    for j in range(replications):\n",
    "        spot_t = spot\n",
    "        convar = 0.0\n",
    "        z = np.random.normal(size=int(steps))\n",
    "\n",
    "        for i in range(int(steps)):\n",
    "            t = i * dt\n",
    "            delta = GeoAsianCallBSMPricer(strike, expiry, spot, rate, volatility, dividend, steps)\n",
    "            spot_tn = spot_t * np.exp(nudt + sigsdt * z[i])\n",
    "            convar = convar + delta * (spot_tn - spot_t * erddt)\n",
    "            spot_t = spot_tn\n",
    "\n",
    "        cash_flow_t[j] = call_payoff(spot_t, strike) + beta * convar\n",
    "\n",
    "    price = np.exp(-rate * expiry) * cash_flow_t.mean()\n",
    "    stderr = cash_flow_t.std() / np.sqrt(replications)\n",
    "    return price, stderr"
   ]
  },
  {
   "cell_type": "code",
   "execution_count": null,
   "metadata": {
    "colab": {},
    "colab_type": "code",
    "id": "KNFtsH5LfiMV",
    "outputId": "efef9117-ff4d-4b73-a354-408b377b6504"
   },
   "outputs": [
    {
     "name": "stdout",
     "output_type": "stream",
     "text": [
      "35.98514125861664\n"
     ]
    }
   ],
   "source": [
    "strike = 100\n",
    "spot = 100\n",
    "vol = .2\n",
    "rate = .06\n",
    "div = .03\n",
    "steps = 10\n",
    "replications = 10000\n",
    "expiry = 1\n",
    "\n",
    "price = PathwiseCVMonteCarloPricer(strike, expiry, spot, rate, vol, div, replications, steps)\n",
    "print(price)"
   ]
  },
  {
   "cell_type": "code",
   "execution_count": null,
   "metadata": {
    "colab": {},
    "colab_type": "code",
    "id": "d3khypvSfiMi"
   },
   "outputs": [],
   "source": []
  },
  {
   "cell_type": "code",
   "execution_count": null,
   "metadata": {
    "colab": {},
    "colab_type": "code",
    "id": "b4tLzz5KfiMn"
   },
   "outputs": [],
   "source": []
  }
 ],
 "metadata": {
  "colab": {
   "name": "asian option test.ipynb",
   "provenance": [],
   "version": "0.3.2"
  },
  "kernelspec": {
   "display_name": "Python 3",
   "language": "python",
   "name": "python3"
  },
  "language_info": {
   "codemirror_mode": {
    "name": "ipython",
    "version": 3
   },
   "file_extension": ".py",
   "mimetype": "text/x-python",
   "name": "python",
   "nbconvert_exporter": "python",
   "pygments_lexer": "ipython3",
   "version": "3.7.0"
  }
 },
 "nbformat": 4,
 "nbformat_minor": 2
}
