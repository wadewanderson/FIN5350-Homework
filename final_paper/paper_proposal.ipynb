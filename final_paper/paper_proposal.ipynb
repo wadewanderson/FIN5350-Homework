{
 "cells": [
  {
   "cell_type": "markdown",
   "metadata": {},
   "source": [
    "---\n",
    "title: \"Finance 5350 - Final Essay Proposal\"\n",
    "author: \"Wade Anderson\"\n",
    "date: \"October 11, 2018\"\n",
    "\n",
    "---\n",
    "\n",
    "\n",
    "1. Read the paper _What Should Economists Do?_ by James M. Buchanan. \n",
    "  - Outline what Buchanan's main point is.\n",
    "  - What does Buchanan mean by the word ___catallatics___?\n",
    "  - According to Buchanan what do most economists do?\n",
    "  - What does he think they should do differently?\n",
    "  \n",
    "2. Similar to Buchanan propose an essay topic that is derived from this approach.\n",
    "  - Buchanan is addressing methodology in economics. He thinks economists should take a certain approach to economics (see your answers to the above questions)\n",
    "  - I want you to also address the question of  methodology in finance, economics, sociology, pyschology, you name it. \n",
    "  - You can agree with Buchanan's approach, in which case you would propose something like: \"What Should Computational Economists Do?\" And you would follow up with what that approach looks like (e.g. Agent-based modeling, computational game theory, etc).\n",
    "  - You can disagree with Buchanan's appproach, in which case you would propose something like: \"Economists are Doing Just Fine. Thank you. Here's What They've Been Doing, and They Should Do More of it!\" (e.g. DSGE models in macro, risk-neutral valuation in finance, etc)\n",
    "  - You can ignore Buchanan altogether and propose something unrelated to his approach (for or against). But you still have to propose an essay on the methodology of computational science in some aspect. (e.g. The role of computational data science in a data-rich business or policy environment)\n",
    "  - I think you get the picture! If not, you __must__ come see me!!\n",
    "  \n",
    "3. Choose at least three sources that you intend to cite for your article. \n",
    "  - Put these in your master.bib file in your repo and push.\n",
    "  - This is three sources in addition to Buchanan. Cite Buchanan at least to set the stage about methodological questions. But then you can do whatever you want. \n",
    "  \n",
    "4. Write up your proposal.\n",
    "  - Write an abstract.\n",
    "  - Write an introduction.\n",
    "  - Write a brief literature review (include your three + 1 sources).\n",
    "  - Write in bullet point style the outline of your proposal.\n",
    "  \n",
    "5. This is due by October 26, 2018 at 6:00 pm. \n",
    "  - Come see me if you need help getting going!\n",
    "  - Don't blow this off. This is a very important part of your grade. \n",
    "  - Make sure to use the template given in the course repository. "
   ]
  },
  {
   "cell_type": "code",
   "execution_count": null,
   "metadata": {},
   "outputs": [],
   "source": []
  }
 ],
 "metadata": {
  "kernelspec": {
   "display_name": "Python 3",
   "language": "python",
   "name": "python3"
  },
  "language_info": {
   "codemirror_mode": {
    "name": "ipython",
    "version": 3
   },
   "file_extension": ".py",
   "mimetype": "text/x-python",
   "name": "python",
   "nbconvert_exporter": "python",
   "pygments_lexer": "ipython3",
   "version": "3.7.0"
  }
 },
 "nbformat": 4,
 "nbformat_minor": 2
}
